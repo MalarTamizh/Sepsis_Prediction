{
 "cells": [
  {
   "cell_type": "code",
   "execution_count": 7,
   "id": "4c4fb7ed",
   "metadata": {},
   "outputs": [],
   "source": [
    "import pandas as pd\n",
    "import seaborn as sns \n",
    "import numpy as np\n",
    "import matplotlib.pyplot as plt\n",
    "from sklearn.metrics import confusion_matrix\n",
    "from sklearn.ensemble import RandomForestClassifier\n",
    "from sklearn.model_selection import train_test_split\n",
    "from sklearn.linear_model import LogisticRegression\n",
    "from sklearn.impute import SimpleImputer\n",
    "from sklearn.impute import KNNImputer\n",
    "from sklearn.neural_network import MLPClassifier\n",
    "from sklearn.metrics import accuracy_score, precision_score, recall_score, f1_score\n",
    "from sklearn.metrics import confusion_matrix, roc_auc_score, mean_absolute_error, mean_squared_error\n",
    "import xgboost as xgb\n",
    "from sklearn.model_selection import GridSearchCV\n",
    "from sklearn.preprocessing import StandardScaler\n",
    "import scipy.stats as stats"
   ]
  },
  {
   "cell_type": "code",
   "execution_count": null,
   "id": "fcec9e21",
   "metadata": {},
   "outputs": [],
   "source": [
    "combined = pd.read_csv('Dataset.csv')\n",
    "\n",
    "rows_to_drop = combined.loc[combined['Patient_ID'].apply(lambda x: len(str(x)) == 6)]\n",
    "df_train = combined.drop(rows_to_drop.index)\n",
    "df_train.to_csv('data_part1.csv', index=False)\n",
    "\n",
    "rows_to_drop = combined.loc[combined['Patient_ID'].apply(lambda x: len(str(x)) != 6)]\n",
    "df_test = combined.drop(rows_to_drop.index)\n",
    "df_test.to_csv('data_part2.csv', index=False)"
   ]
  },
  {
   "cell_type": "code",
   "execution_count": null,
   "id": "a76fdbdc",
   "metadata": {},
   "outputs": [],
   "source": [
    "df_train = pd.read_csv('data_part1.csv')\n",
    "df_test = pd.read_csv('data_part2.csv')"
   ]
  },
  {
   "cell_type": "code",
   "execution_count": null,
   "id": "eeea4d92",
   "metadata": {
    "scrolled": true
   },
   "outputs": [],
   "source": [
    "df_train.head()"
   ]
  },
  {
   "cell_type": "code",
   "execution_count": null,
   "id": "7ea1e6a5",
   "metadata": {
    "scrolled": true
   },
   "outputs": [],
   "source": [
    "df_train.columns"
   ]
  },
  {
   "cell_type": "code",
   "execution_count": null,
   "id": "caf01239",
   "metadata": {},
   "outputs": [],
   "source": [
    "patients = list(df_test['Patient_ID'].unique())\n",
    "len(patients)"
   ]
  },
  {
   "cell_type": "code",
   "execution_count": null,
   "id": "6e95ecb0",
   "metadata": {},
   "outputs": [],
   "source": [
    "def corr_matrix(df):\n",
    "  corr = df.corr()\n",
    "  mask = np.triu(np.ones_like(corr, dtype=bool))\n",
    "  f, ax = plt.subplots(figsize=(40,40))\n",
    "  cmap = sns.diverging_palette(220, 10, as_cmap=True)\n",
    "  sns.heatmap(corr, mask=mask, cmap=\"Paired\", vmax=.3, center=0,\n",
    "              square=True, linewidths=.5, cbar_kws={\"shrink\": .5})"
   ]
  },
  {
   "cell_type": "code",
   "execution_count": null,
   "id": "736fd3d3",
   "metadata": {},
   "outputs": [],
   "source": [
    "null_values = df_train.isnull().mean()*100\n",
    "null_values = null_values.sort_values(ascending=False)\n",
    "null_values"
   ]
  },
  {
   "cell_type": "code",
   "execution_count": null,
   "id": "fe374987",
   "metadata": {},
   "outputs": [],
   "source": [
    "columns_drop={'Unnamed: 0','SBP','DBP','EtCO2','BaseExcess', 'HCO3','pH','PaCO2','Alkalinephos', 'Calcium','Magnesium', \n",
    "'Phosphate','Potassium','PTT','Fibrinogen','Unit1','Unit2'}\n",
    "df_train = df_train.assign(Unit=df_train['Unit1'] + df_train['Unit2'])\n",
    "df_train_mod = df_train.drop(columns=columns_drop)\n",
    "df_train_mod.columns"
   ]
  },
  {
   "cell_type": "code",
   "execution_count": null,
   "id": "79788be6",
   "metadata": {},
   "outputs": [],
   "source": [
    "corr_matrix(df_train_mod)"
   ]
  },
  {
   "cell_type": "code",
   "execution_count": null,
   "id": "16b5a39c",
   "metadata": {},
   "outputs": [],
   "source": [
    "df_train_impute = df_train_mod.copy()\n",
    "columns_impute = list(df_train_impute.columns)"
   ]
  },
  {
   "cell_type": "code",
   "execution_count": null,
   "id": "7d6c5141",
   "metadata": {},
   "outputs": [],
   "source": [
    "grouped_by_patient = df_train_impute.groupby('Patient_ID')\n",
    "df_train_impute = grouped_by_patient.apply(lambda x: x.bfill().ffill())"
   ]
  },
  {
   "cell_type": "code",
   "execution_count": null,
   "id": "2ddf969c",
   "metadata": {},
   "outputs": [],
   "source": [
    "df_train_impute.head()"
   ]
  },
  {
   "cell_type": "code",
   "execution_count": null,
   "id": "5a7b19d3",
   "metadata": {},
   "outputs": [],
   "source": [
    "null_values = df_train_impute.isnull().mean()*100\n",
    "null_values = null_values.sort_values(ascending=False)\n",
    "null_values"
   ]
  },
  {
   "cell_type": "code",
   "execution_count": null,
   "id": "431122ef",
   "metadata": {},
   "outputs": [],
   "source": [
    "null_col = ['TroponinI', 'Bilirubin_direct', 'AST', 'Bilirubin_total', 'Lactate', 'SaO2', 'FiO2',\n",
    "            'Unit', 'Patient_ID']\n",
    "df_train_impute = df_train_impute.drop(columns=null_col)\n",
    "df_train_impute.columns"
   ]
  },
  {
   "cell_type": "code",
   "execution_count": null,
   "id": "facd14b2",
   "metadata": {},
   "outputs": [],
   "source": [
    "one_hot = pd.get_dummies(df_train_impute['Gender'])\n",
    "df_train_impute = df_train_impute.join(one_hot)\n",
    "df_train_impute = df_train_impute.drop('Gender', axis=1)"
   ]
  },
  {
   "cell_type": "code",
   "execution_count": null,
   "id": "020c9bd4",
   "metadata": {},
   "outputs": [],
   "source": [
    "def diagnostic_plots(df, variable):\n",
    "    fig = plt.figure(figsize=(15,4))\n",
    "    ax = fig.add_subplot(121)\n",
    "    df[variable].hist(bins=30)\n",
    "    ax = fig.add_subplot(122)\n",
    "    stats.probplot(df[variable], dist=\"norm\", plot=plt)\n",
    "    plt.xlabel(variable)\n",
    "    plt.show()"
   ]
  },
  {
   "cell_type": "code",
   "execution_count": null,
   "id": "94a0dbd5",
   "metadata": {},
   "outputs": [],
   "source": [
    "def try_gaussian(df, col):\n",
    "  print('actual plot')\n",
    "  diagnostic_plots(df,col)\n",
    "  # this applies yeojohnson plot\n",
    "  df['col_yj'], param = stats.yeojohnson(df[col]) \n",
    "  print('yeojohnson plot')\n",
    "  diagnostic_plots(df, 'col_yj')\n",
    "  # this applies exponential transformation\n",
    "  df['col_1.5'] = df[col]**(1/1.5)\n",
    "  print('**1/1.5 plot') \n",
    "  diagnostic_plots(df, 'col_1.5')\n",
    "  df['col_.5'] = df[col]**(.5)\n",
    "  print('**.5 plot') \n",
    "  # this applies inverse transformation\n",
    "  diagnostic_plots(df, 'col_.5')\n",
    "  df['col_rec'] = 1 / (df[col]+0.00001) \n",
    "  diagnostic_plots(df, 'col_rec')\n",
    "  # this applies logarithmic trasnformation\n",
    "  df['col_log'] = np.log(df[col]+1)\n",
    "  diagnostic_plots(df, 'col_log') "
   ]
  },
  {
   "cell_type": "code",
   "execution_count": null,
   "id": "6df87415",
   "metadata": {},
   "outputs": [],
   "source": [
    "lst = ['O2Sat', 'Temp', 'MAP', 'BUN', 'Creatinine', 'Glucose', 'WBC', 'Platelets' ]\n",
    "for i in lst:\n",
    "  print(i)\n",
    "  try_gaussian(df_train_impute, i)"
   ]
  },
  {
   "cell_type": "code",
   "execution_count": null,
   "id": "2562803f",
   "metadata": {},
   "outputs": [],
   "source": [
    "df_train_impute = df_train_impute.drop(columns = ['col_yj','col_1.5','col_.5','col_rec','col_log'])"
   ]
  },
  {
   "cell_type": "code",
   "execution_count": null,
   "id": "cf37fd96",
   "metadata": {},
   "outputs": [],
   "source": [
    "df_train_impute.head()"
   ]
  },
  {
   "cell_type": "code",
   "execution_count": null,
   "id": "a772da51",
   "metadata": {},
   "outputs": [],
   "source": [
    "columns_normalized = ['MAP', 'BUN', 'Creatinine', 'Glucose', 'WBC', 'Platelets' ]\n",
    "for i in columns_normalized:\n",
    "  df_train_impute[i] = np.log(df_train_impute[i]+1)"
   ]
  },
  {
   "cell_type": "code",
   "execution_count": null,
   "id": "29d55bc9",
   "metadata": {},
   "outputs": [],
   "source": [
    "df_train_impute.head()"
   ]
  },
  {
   "cell_type": "code",
   "execution_count": null,
   "id": "4cd08487",
   "metadata": {},
   "outputs": [],
   "source": [
    "scaler = StandardScaler()\n",
    "df_train_impute[['HR', 'O2Sat', 'Temp', 'MAP', 'Resp', 'BUN', 'Chloride',\n",
    "       'Creatinine', 'Glucose', 'Hct', 'Hgb', 'WBC', 'Platelets']] = scaler.fit_transform(df_train_impute[['HR', 'O2Sat', 'Temp', 'MAP', 'Resp', 'BUN', 'Chloride',\n",
    "       'Creatinine', 'Glucose', 'Hct', 'Hgb', 'WBC', 'Platelets']])\n",
    "df_train_impute.head()"
   ]
  },
  {
   "cell_type": "code",
   "execution_count": null,
   "id": "0cdabd16",
   "metadata": {},
   "outputs": [],
   "source": [
    "df_train_impute = df_train_impute.dropna()\n",
    "null_values = df_train_impute.isnull().mean()*100\n",
    "null_values\n"
   ]
  },
  {
   "cell_type": "code",
   "execution_count": null,
   "id": "0decdd19",
   "metadata": {},
   "outputs": [],
   "source": [
    "def get_data_ready(df):\n",
    "  columns_drop={'Unnamed: 0','SBP','DBP','EtCO2','BaseExcess', 'HCO3','pH','PaCO2','Alkalinephos', 'Calcium','Magnesium', \n",
    "  'Phosphate','Potassium','PTT','Fibrinogen','Unit1','Unit2'}\n",
    "  df = df.assign(Unit=df['Unit1'] + df['Unit2'])\n",
    "  # dropping columns based on redundancy\n",
    "  df = df.drop(columns=columns_drop)\n",
    "  grouped_by_patient = df.groupby('Patient_ID')\n",
    "  # imputing backfill and forward fill\n",
    "  df = grouped_by_patient.apply(lambda x: x.bfill().ffill())\n",
    "  # dropping all the columns with null values more than 25% and patient_id\n",
    "  null_col = ['TroponinI', 'Bilirubin_direct', 'AST', 'Bilirubin_total', 'Lactate', 'SaO2', 'FiO2','Unit', 'Patient_ID']\n",
    "  df = df.drop(columns=null_col)\n",
    "  # gaussian transformation\n",
    "  columns_normalized = ['MAP', 'BUN', 'Creatinine', 'Glucose', 'WBC', 'Platelets' ]\n",
    "  for i in columns_normalized:\n",
    "    df[i] = np.log(df[i]+1)\n",
    "  # normailizing\n",
    "  scaler = StandardScaler()\n",
    "  df[['HR', 'O2Sat', 'Temp', 'MAP', 'Resp', 'BUN', 'Chloride',\n",
    "       'Creatinine', 'Glucose', 'Hct', 'Hgb', 'WBC', 'Platelets']] = scaler.fit_transform(df[['HR', 'O2Sat', 'Temp', 'MAP', 'Resp', 'BUN', 'Chloride',\n",
    "       'Creatinine', 'Glucose', 'Hct', 'Hgb', 'WBC', 'Platelets']])\n",
    "  # onehot encoding the gender\n",
    "  one_hot = pd.get_dummies(df['Gender'])\n",
    "  df = df.join(one_hot)\n",
    "  df = df.drop('Gender', axis=1)\n",
    "  df = df.dropna()\n",
    "  return df"
   ]
  },
  {
   "cell_type": "code",
   "execution_count": null,
   "id": "f3b2dcee",
   "metadata": {},
   "outputs": [],
   "source": [
    "def evaluate_model(y_true,y_pred):\n",
    "  accuracy = accuracy_score(y_true, y_pred)\n",
    "  print(\"Accuracy:\", accuracy)\n",
    "  precision = precision_score(y_true, y_pred)\n",
    "  print(\"Precision:\", precision)\n",
    "  recall = recall_score(y_true, y_pred)\n",
    "  print(\"Recall:\", recall)\n",
    "  f1 = f1_score(y_true, y_pred)\n",
    "  print(\"F1 Score:\", f1)\n",
    "  auc = roc_auc_score(y_true, y_pred)\n",
    "  print(\"AUC-ROC:\", auc)\n",
    "  mae = mean_absolute_error(y_true, y_pred)\n",
    "  print(\"Mean Absolute Error:\", mae)\n",
    "  rmse = np.sqrt(mean_squared_error(y_true, y_pred))\n",
    "  print(\"Root Mean Squared Error:\", rmse)\n",
    "  cm = confusion_matrix(y_true, y_pred)\n",
    "  sns.heatmap(cm, annot=True, fmt='d')\n",
    "  plt.show()"
   ]
  },
  {
   "cell_type": "code",
   "execution_count": null,
   "id": "d49862eb",
   "metadata": {},
   "outputs": [],
   "source": [
    "\n",
    "majority_class = df_train_impute[df_train_impute['SepsisLabel'] == 0]\n",
    "minority_class = df_train_impute[df_train_impute['SepsisLabel'] == 1]\n",
    "print('number of sepsis label 1 is {}'.format(len(minority_class)))\n",
    "print('while number of sepsis label 0 is {}'.format(len(majority_class)))"
   ]
  },
  {
   "cell_type": "code",
   "execution_count": null,
   "id": "55db5265",
   "metadata": {},
   "outputs": [],
   "source": [
    "majority_class_subset = majority_class.sample(n=2*len(minority_class))\n",
    "df_train_impute = pd.concat([majority_class_subset, minority_class])"
   ]
  },
  {
   "cell_type": "code",
   "execution_count": null,
   "id": "d9dbf65a",
   "metadata": {},
   "outputs": [],
   "source": [
    "corr_matrix(df_train_impute)\n"
   ]
  },
  {
   "cell_type": "code",
   "execution_count": null,
   "id": "453cfb2f",
   "metadata": {},
   "outputs": [],
   "source": [
    "X = df_train_impute.drop('SepsisLabel', axis=1)\n",
    "y = df_train_impute['SepsisLabel']\n",
    "X_train, X_test, y_train, y_test = train_test_split(X, y, test_size=0.2)"
   ]
  },
  {
   "cell_type": "code",
   "execution_count": 55,
   "id": "1f46baa0",
   "metadata": {},
   "outputs": [
    {
     "name": "stdout",
     "output_type": "stream",
     "text": [
      "[0 0 0 ... 0 0 1]\n"
     ]
    }
   ],
   "source": [
    "model = RandomForestClassifier(n_estimators=200, random_state=0)\n",
    "model.fit(X_train, y_train)\n",
    "rcf_predictions = model.predict(X_test)\n",
    "print(rcf_predictions)"
   ]
  },
  {
   "cell_type": "code",
   "execution_count": 56,
   "id": "93d28750",
   "metadata": {},
   "outputs": [
    {
     "name": "stdout",
     "output_type": "stream",
     "text": [
      "Accuracy: 0.9591102387962054\n",
      "Precision: 0.9233196591984854\n",
      "Recall: 0.9568345323741008\n",
      "F1 Score: 0.9397783844547937\n",
      "AUC-ROC: 0.9585415913956223\n",
      "Mean Absolute Error: 0.04088976120379457\n",
      "Root Mean Squared Error: 0.20221216878267878\n"
     ]
    },
    {
     "data": {
      "image/png": "[encoded data removed]",
      "text/plain": [
       "<Figure size 432x288 with 2 Axes>"
      ]
     },
     "metadata": {
      "needs_background": "light"
     },
     "output_type": "display_data"
    }
   ],
   "source": [
    "evaluate_model(y_test,rcf_predictions)"
   ]
  },
  {
   "cell_type": "code",
   "execution_count": 41,
   "id": "cc7ba991",
   "metadata": {},
   "outputs": [
    {
     "name": "stdout",
     "output_type": "stream",
     "text": [
      "Accuracy: 0.7511721731545088\n",
      "Precision: 0.706163655685441\n",
      "Recall: 0.434597776324395\n",
      "F1 Score: 0.5380566801619433\n",
      "AUC-ROC: 0.6720674142541327\n",
      "Mean Absolute Error: 0.24882782684549123\n",
      "Root Mean Squared Error: 0.4988264496250086\n"
     ]
    },
    {
     "data": {
      "image/png": "[encoded data removed]",
      "text/plain": [
       "<Figure size 432x288 with 2 Axes>"
      ]
     },
     "metadata": {
      "needs_background": "light"
     },
     "output_type": "display_data"
    }
   ],
   "source": [
    "from sklearn.naive_bayes import GaussianNB\n",
    "model = GaussianNB()\n",
    "model.fit(X_train, y_train)\n",
    "nbc_predictions = model.predict(X_test)\n",
    "evaluate_model(y_test,nbc_predictions)"
   ]
  },
  {
   "cell_type": "code",
   "execution_count": 42,
   "id": "208bbf2b",
   "metadata": {},
   "outputs": [
    {
     "name": "stdout",
     "output_type": "stream",
     "text": [
      "Accuracy: 0.8248827826845492\n",
      "Precision: 0.7682926829268293\n",
      "Recall: 0.6798561151079137\n",
      "F1 Score: 0.7213740458015268\n",
      "AUC-ROC: 0.7886439090180498\n",
      "Mean Absolute Error: 0.17511721731545088\n",
      "Root Mean Squared Error: 0.41847009130337004\n"
     ]
    },
    {
     "data": {
      "image/png": "[encoded data removed]",
      "text/plain": [
       "<Figure size 432x288 with 2 Axes>"
      ]
     },
     "metadata": {
      "needs_background": "light"
     },
     "output_type": "display_data"
    }
   ],
   "source": [
    "from sklearn.neighbors import KNeighborsClassifier\n",
    "# model = KNeighborsClassifier(n_neighbors=8)\n",
    "# model = KNeighborsClassifier(n_neighbors=5)\n",
    "model = KNeighborsClassifier(n_neighbors=10)\n",
    "model.fit(X_train, y_train)\n",
    "knn_predictions = model.predict(X_test)\n",
    "evaluate_model(y_test,knn_predictions)"
   ]
  },
  {
   "cell_type": "code",
   "execution_count": 43,
   "id": "fe7c7aee",
   "metadata": {
    "scrolled": true
   },
   "outputs": [
    {
     "name": "stderr",
     "output_type": "stream",
     "text": [
      "C:\\Users\\Prathiksha\\anaconda3\\lib\\site-packages\\sklearn\\linear_model\\_logistic.py:763: ConvergenceWarning: lbfgs failed to converge (status=1):\n",
      "STOP: TOTAL NO. of ITERATIONS REACHED LIMIT.\n",
      "\n",
      "Increase the number of iterations (max_iter) or scale the data as shown in:\n",
      "    https://scikit-learn.org/stable/modules/preprocessing.html\n",
      "Please also refer to the documentation for alternative solver options:\n",
      "    https://scikit-learn.org/stable/modules/linear_model.html#logistic-regression\n",
      "  n_iter_i = _check_optimize_result(\n"
     ]
    },
    {
     "name": "stdout",
     "output_type": "stream",
     "text": [
      "Accuracy: 0.7511721731545088\n",
      "Precision: 0.7368742368742369\n",
      "Recall: 0.394702419882276\n",
      "F1 Score: 0.5140545144804088\n",
      "AUC-ROC: 0.6620984698789754\n",
      "Mean Absolute Error: 0.24882782684549123\n",
      "Root Mean Squared Error: 0.4988264496250086\n"
     ]
    },
    {
     "data": {
      "image/png": "[encoded data removed]",
      "text/plain": [
       "<Figure size 432x288 with 2 Axes>"
      ]
     },
     "metadata": {
      "needs_background": "light"
     },
     "output_type": "display_data"
    }
   ],
   "source": [
    "from sklearn.linear_model import LogisticRegression\n",
    "model = LogisticRegression()\n",
    "model.fit(X_train, y_train)\n",
    "lr_predictions = model.predict(X_test)\n",
    "evaluate_model(y_test,lr_predictions)"
   ]
  },
  {
   "cell_type": "code",
   "execution_count": 44,
   "id": "accbf15b",
   "metadata": {},
   "outputs": [
    {
     "name": "stdout",
     "output_type": "stream",
     "text": [
      "Accuracy: 0.8650092683458729\n",
      "Precision: 0.7750906892382105\n",
      "Recall: 0.8384565075212557\n",
      "F1 Score: 0.8055293748036444\n",
      "AUC-ROC: 0.8583743358806999\n",
      "Mean Absolute Error: 0.13499073165412714\n",
      "Root Mean Squared Error: 0.36741084857979783\n"
     ]
    },
    {
     "data": {
      "image/png": "[encoded data removed]",
      "text/plain": [
       "<Figure size 432x288 with 2 Axes>"
      ]
     },
     "metadata": {
      "needs_background": "light"
     },
     "output_type": "display_data"
    }
   ],
   "source": [
    "nn = MLPClassifier(max_iter=5000, hidden_layer_sizes=(50,50,50,50), verbose=0, learning_rate=\"adaptive\")\n",
    "nn.fit(X_train, y_train)\n",
    "mlp=nn.predict(X_test)\n",
    "evaluate_model(y_test,mlp)"
   ]
  },
  {
   "cell_type": "code",
   "execution_count": 45,
   "id": "ddf11f64",
   "metadata": {},
   "outputs": [
    {
     "name": "stdout",
     "output_type": "stream",
     "text": [
      "[14:45:05] WARNING: C:\\buildkite-agent\\builds\\buildkite-windows-cpu-autoscaling-group-i-0fdc6d574b9c0d168-1\\xgboost\\xgboost-ci-windows\\src\\learner.cc:767: \n",
      "Parameters: { \"silent\" } are not used.\n",
      "\n",
      "Accuracy: 0.8643550321666121\n",
      "Precision: 0.8356772760917839\n",
      "Recall: 0.7383911052975801\n",
      "F1 Score: 0.7840277777777777\n",
      "AUC-ROC: 0.8328795048817362\n",
      "Mean Absolute Error: 0.13564496783338786\n",
      "Root Mean Squared Error: 0.36830010566572996\n"
     ]
    },
    {
     "data": {
      "image/png": "[encoded data removed]",
      "text/plain": [
       "<Figure size 432x288 with 2 Axes>"
      ]
     },
     "metadata": {
      "needs_background": "light"
     },
     "output_type": "display_data"
    }
   ],
   "source": [
    "import xgboost as xgb\n",
    "dtrain = xgb.DMatrix(X_train, label=y_train)\n",
    "dtest = xgb.DMatrix(X_test, label=y_test)\n",
    "param = {\n",
    "    'max_depth': 5,  # the maximum depth of each tree\n",
    "    'eta': 0.3,  # the training step for each iteration\n",
    "    'silent': 1,  # logging mode - quiet\n",
    "    'objective': 'binary:logistic'}  # error evaluation for binary classification\n",
    "num_round = 100\n",
    "bst = xgb.train(param, dtrain, num_round)\n",
    "xgb_predictions = bst.predict(dtest)\n",
    "prediction = []\n",
    "for i in xgb_predictions:\n",
    "  if i<0.5:\n",
    "    prediction.append(0)\n",
    "  else:\n",
    "    prediction.append(1)\n",
    "evaluate_model(y_test,prediction)"
   ]
  },
  {
   "cell_type": "code",
   "execution_count": 46,
   "id": "784739a0",
   "metadata": {},
   "outputs": [
    {
     "name": "stdout",
     "output_type": "stream",
     "text": [
      "Accuracy: 0.8346185419946976\n",
      "Precision: 0.08353491372359297\n",
      "Recall: 0.5288412455334355\n",
      "F1 Score: 0.1442796462641877\n",
      "AUC-ROC: 0.6858697298602103\n",
      "Mean Absolute Error: 0.16538145800530232\n",
      "Root Mean Squared Error: 0.4066711915114007\n"
     ]
    },
    {
     "data": {
      "image/png": "[encoded data removed]",
      "text/plain": [
       "<Figure size 432x288 with 2 Axes>"
      ]
     },
     "metadata": {
      "needs_background": "light"
     },
     "output_type": "display_data"
    }
   ],
   "source": [
    "df = get_data_ready(df_test)\n",
    "X = df.drop('SepsisLabel', axis=1)\n",
    "y = df['SepsisLabel']\n",
    "rcf_predictions = model.predict(X)\n",
    "evaluate_model(y,rcf_predictions)"
   ]
  },
  {
   "cell_type": "code",
   "execution_count": 105,
   "id": "13b3ea3d",
   "metadata": {},
   "outputs": [],
   "source": []
  },
  {
   "cell_type": "code",
   "execution_count": 60,
   "id": "8cf3d448",
   "metadata": {},
   "outputs": [],
   "source": [
    "predictions=[rcf_predictions, knn_predictions, lr_predictions , nbc_predictions]\n"
   ]
  },
  {
   "cell_type": "code",
   "execution_count": 61,
   "id": "84118870",
   "metadata": {},
   "outputs": [],
   "source": [
    "accuracy_model1 = accuracy_score(y_test, rcf_predictions)\n",
    "accuracy_model2 = accuracy_score(y_test, knn_predictions)\n",
    "accuracy_model3 = accuracy_score(y_test, lr_predictions)\n",
    "accuracy_model4 = accuracy_score(y_test, nbc_predictions)\n",
    "\n",
    "\n",
    "total_accuracy = accuracy_model1 + accuracy_model2 + accuracy_model3 + accuracy_model4\n",
    "weight_model1 = accuracy_model1 / total_accuracy\n",
    "weight_model2 = accuracy_model2 / total_accuracy\n",
    "weight_model3 = accuracy_model3 / total_accuracy\n",
    "weight_model4 = accuracy_model4 / total_accuracy\n",
    "\n",
    "# Create a list of weights\n",
    "weights = [weight_model1, weight_model2, weight_model3, weight_model4]"
   ]
  },
  {
   "cell_type": "code",
   "execution_count": 62,
   "id": "0748f8a7",
   "metadata": {},
   "outputs": [],
   "source": [
    "ensemble_prediction = np.mean(predictions, axis=0)"
   ]
  },
  {
   "cell_type": "code",
   "execution_count": 63,
   "id": "1262cedb",
   "metadata": {},
   "outputs": [],
   "source": [
    "weighted_prediction = np.average(predictions, axis=0, weights=weights)"
   ]
  },
  {
   "cell_type": "code",
   "execution_count": 64,
   "id": "0499880e",
   "metadata": {},
   "outputs": [],
   "source": [
    "from sklearn.model_selection import train_test_split\n",
    "from sklearn.linear_model import LinearRegression\n",
    "\n",
    "# Assuming 'predictions' is a list of predictions from different models\n",
    "# 'y_true' is the true labels corresponding to the predictions\n",
    "\n",
    "# Split data into train and test sets\n",
    "X_train, X_test, y_train, y_test = train_test_split(np.array(predictions).T, y_test, test_size=0.2, random_state=42)\n",
    "\n",
    "# Initialize meta-model (e.g., linear regression)\n",
    "meta_model = LinearRegression()\n",
    "\n",
    "# Train meta-model on predictions\n",
    "meta_model.fit(X_train, y_train)\n",
    "\n",
    "# Make predictions using meta-model\n",
    "ensemble_prediction = meta_model.predict(X_test)\n",
    "\n"
   ]
  },
  {
   "cell_type": "code",
   "execution_count": 65,
   "id": "65460996",
   "metadata": {},
   "outputs": [
    {
     "data": {
      "text/plain": [
       "0.9596730245231607"
      ]
     },
     "execution_count": 65,
     "metadata": {},
     "output_type": "execute_result"
    }
   ],
   "source": [
    "threshold = 0.5\n",
    "\n",
    "# Convert continuous predictions to binary class labels\n",
    "binary_predictions = (ensemble_prediction > threshold).astype(int)\n",
    "\n",
    "# Now, you can compute the accuracy score using the binary predictions\n",
    "accuracy = accuracy_score(y_test, binary_predictions)\n",
    "accuracy"
   ]
  },
  {
   "cell_type": "code",
   "execution_count": 66,
   "id": "7dc9381f",
   "metadata": {
    "scrolled": true
   },
   "outputs": [
    {
     "data": {
      "text/plain": [
       "0.9176090468497576"
      ]
     },
     "execution_count": 66,
     "metadata": {},
     "output_type": "execute_result"
    }
   ],
   "source": [
    "precision = precision_score(y_test, binary_predictions)\n",
    "precision"
   ]
  },
  {
   "cell_type": "code",
   "execution_count": 67,
   "id": "790f02a3",
   "metadata": {},
   "outputs": [
    {
     "data": {
      "text/plain": [
       "0.961082910321489"
      ]
     },
     "execution_count": 67,
     "metadata": {},
     "output_type": "execute_result"
    }
   ],
   "source": [
    "recall = recall_score(y_test,binary_predictions)\n",
    "recall"
   ]
  },
  {
   "cell_type": "code",
   "execution_count": 68,
   "id": "b511ce19",
   "metadata": {},
   "outputs": [
    {
     "data": {
      "text/plain": [
       "0.9388429752066115"
      ]
     },
     "execution_count": 68,
     "metadata": {},
     "output_type": "execute_result"
    }
   ],
   "source": [
    "f1 = f1_score(y_test,binary_predictions)\n",
    "f1"
   ]
  },
  {
   "cell_type": "code",
   "execution_count": 69,
   "id": "ad7c80bd",
   "metadata": {},
   "outputs": [
    {
     "data": {
      "text/plain": [
       "0.9600430628777864"
      ]
     },
     "execution_count": 69,
     "metadata": {},
     "output_type": "execute_result"
    }
   ],
   "source": [
    "roc_auc = roc_auc_score(y_test,binary_predictions)\n",
    "roc_auc"
   ]
  },
  {
   "cell_type": "code",
   "execution_count": 70,
   "id": "d70bef70",
   "metadata": {},
   "outputs": [
    {
     "data": {
      "image/png": "[encoded data removed]",
      "text/plain": [
       "<Figure size 576x432 with 1 Axes>"
      ]
     },
     "metadata": {
      "needs_background": "light"
     },
     "output_type": "display_data"
    }
   ],
   "source": [
    "from sklearn.metrics import roc_curve, roc_auc_score\n",
    "import matplotlib.pyplot as plt\n",
    "\n",
    "\n",
    "y_score = ensemble_prediction\n",
    "\n",
    "# Compute false positive rate (FPR), true positive rate (TPR), and thresholds\n",
    "fpr, tpr, thresholds = roc_curve(y_test, y_score)\n",
    "\n",
    "# Compute Area Under the Receiver Operating Characteristic Curve (ROC AUC)\n",
    "roc_auc = roc_auc_score(y_test, y_score)\n",
    "\n",
    "\n",
    "plt.figure(figsize=(8, 6))\n",
    "plt.plot(fpr, tpr, color='blue', lw=2, label='ROC curve (AUC = %0.2f)' % roc_auc)\n",
    "plt.plot([0, 1], [0, 1], color='gray', linestyle='--')\n",
    "plt.xlim([0.0, 1.0])\n",
    "plt.ylim([0.0, 1.05])\n",
    "plt.xlabel('False Positive Rate (FPR)')\n",
    "plt.ylabel('True Positive Rate (TPR)')\n",
    "plt.title('Receiver Operating Characteristic (ROC) Curve')\n",
    "plt.legend(loc=\"lower right\")\n",
    "plt.show()\n"
   ]
  },
  {
   "cell_type": "code",
   "execution_count": null,
   "id": "f16590fc",
   "metadata": {},
   "outputs": [],
   "source": []
  }
 ],
 "metadata": {
  "kernelspec": {
   "display_name": "Python 3 (ipykernel)",
   "language": "python",
   "name": "python3"
  },
  "language_info": {
   "codemirror_mode": {
    "name": "ipython",
    "version": 3
   },
   "file_extension": ".py",
   "mimetype": "text/x-python",
   "name": "python",
   "nbconvert_exporter": "python",
   "pygments_lexer": "ipython3",
   "version": "3.9.12"
  }
 },
 "nbformat": 4,
 "nbformat_minor": 5
}
